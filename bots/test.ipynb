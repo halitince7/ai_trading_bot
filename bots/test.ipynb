{
 "cells": [
  {
   "cell_type": "code",
   "execution_count": 2,
   "metadata": {},
   "outputs": [],
   "source": [
    "from config import config_erkan, config_halit\n",
    "from binance.um_futures import UMFutures\n",
    "import ta\n",
    "import pandas as pd\n",
    "from time import sleep\n",
    "from binance.error import ClientError\n",
    "import logging\n",
    "from binance.client import Client\n",
    "from binance.exceptions import BinanceAPIException\n",
    "import pandas as pd\n",
    "import time\n",
    "from datetime import datetime"
   ]
  },
  {
   "cell_type": "code",
   "execution_count": 3,
   "metadata": {},
   "outputs": [],
   "source": [
    "client = UMFutures(key = config_erkan['key'], secret=config_erkan['secret'])"
   ]
  },
  {
   "cell_type": "code",
   "execution_count": 4,
   "metadata": {},
   "outputs": [],
   "source": [
    "tp = 0.012\n",
    "sl = 0.009\n",
    "volume = 10  # volume for one order (if its 10 and leverage is 10, then you put 1 usdt to one position)\n",
    "leverage = 1\n",
    "type = 'ISOLATED'  # type is 'ISOLATED' or 'CROSS'\n",
    "qty = 5"
   ]
  },
  {
   "cell_type": "code",
   "execution_count": 5,
   "metadata": {},
   "outputs": [
    {
     "name": "stdout",
     "output_type": "stream",
     "text": [
      "USDT : 753.42635584\n",
      "None\n"
     ]
    }
   ],
   "source": [
    "# getting your futures balance in USDT\n",
    "def get_balance_usdt():\n",
    "    try:\n",
    "        response = client.balance(recvWindow=6000)\n",
    "        for elem in response:\n",
    "            if float(elem['balance']) > 0:\n",
    "                print(elem['asset'],\":\", float(elem['balance']))\n",
    "\n",
    "    except ClientError as error:\n",
    "        print(\n",
    "            \"Found error. status: {}, error code: {}, error message: {}\".format(\n",
    "                error.status_code, error.error_code, error.error_message\n",
    "            )\n",
    "        )\n",
    "\n",
    "print(get_balance_usdt())"
   ]
  },
  {
   "cell_type": "code",
   "execution_count": 6,
   "metadata": {},
   "outputs": [],
   "source": [
    "def get_tickers_usdt():\n",
    "    tickers = []\n",
    "    resp = client.ticker_price()\n",
    "    for elem in resp:\n",
    "        if 'USDT' in elem['symbol']:\n",
    "            tickers.append(elem['symbol'])\n",
    "    return tickers\n",
    "\n",
    "# Getting candles for the needed symbol, its a dataframe with 'Time', 'Open', 'High', 'Low', 'Close', 'Volume'\n",
    "def klines(symbol):\n",
    "    try:\n",
    "        resp = pd.DataFrame(client.klines(symbol, '1h'))\n",
    "        resp = resp.iloc[:,:6]\n",
    "        resp.columns = ['Time', 'Open', 'High', 'Low', 'Close', 'Volume']\n",
    "        resp = resp.set_index('Time')\n",
    "        resp.index = pd.to_datetime(resp.index, unit = 'ms')\n",
    "        resp = resp.astype(float)\n",
    "        return resp\n",
    "    except ClientError as error:\n",
    "        print(\n",
    "            \"Found error. status: {}, error code: {}, error message: {}\".format(\n",
    "                error.status_code, error.error_code, error.error_message\n",
    "            )\n",
    "        )\n",
    "\n",
    "\n",
    "# Set leverage for the needed symbol. You need this bcz different symbols can have different leverage\n",
    "def set_leverage(symbol, level):\n",
    "    try:\n",
    "        response = client.change_leverage(\n",
    "            symbol=symbol, leverage=level, recvWindow=6000\n",
    "        )\n",
    "        print(response)\n",
    "    except ClientError as error:\n",
    "        print(\n",
    "            \"Found error. status: {}, error code: {}, error message: {}\".format(\n",
    "                error.status_code, error.error_code, error.error_message\n",
    "            )\n",
    "        )\n",
    "\n",
    "# The same for the margin type\n",
    "def set_mode(symbol, type):\n",
    "    try:\n",
    "        response = client.change_margin_type(\n",
    "            symbol=symbol, marginType=type, recvWindow=6000\n",
    "        )\n",
    "        print(response)\n",
    "    except ClientError as error:\n",
    "        print(\n",
    "            \"Found error. status: {}, error code: {}, error message: {}\".format(\n",
    "                error.status_code, error.error_code, error.error_message\n",
    "            )\n",
    "        )\n",
    "\n",
    "# Price precision. BTC has 1, XRP has 4\n",
    "def get_price_precision(symbol):\n",
    "    resp = client.exchange_info()['symbols']\n",
    "    for elem in resp:\n",
    "        if elem['symbol'] == symbol:\n",
    "            return elem['pricePrecision']\n",
    "\n",
    "\n",
    "# Amount precision. BTC has 3, XRP has 1\n",
    "def get_qty_precision(symbol):\n",
    "    resp = client.exchange_info()['symbols']\n",
    "    for elem in resp:\n",
    "        if elem['symbol'] == symbol:\n",
    "            return elem['quantityPrecision']\n",
    "        \n",
    "\n",
    "\n"
   ]
  },
  {
   "cell_type": "code",
   "execution_count": 7,
   "metadata": {},
   "outputs": [
    {
     "name": "stdout",
     "output_type": "stream",
     "text": [
      "                        Open     High      Low    Close     Volume\n",
      "Time                                                              \n",
      "2024-11-04 06:00:00  68811.4  69159.3  68808.1  69115.6   4747.282\n",
      "2024-11-04 07:00:00  69115.5  69166.0  68600.9  68601.0   6073.573\n",
      "2024-11-04 08:00:00  68601.0  68748.0  68456.3  68686.5   7645.132\n",
      "2024-11-04 09:00:00  68686.5  68913.0  68459.8  68628.1   7179.225\n",
      "2024-11-04 10:00:00  68628.0  68903.0  68587.4  68817.0   5480.654\n",
      "...                      ...      ...      ...      ...        ...\n",
      "2024-11-24 21:00:00  96888.0  97061.4  96645.3  97037.7   3708.058\n",
      "2024-11-24 22:00:00  97037.7  98086.3  97037.7  98082.0  10276.195\n",
      "2024-11-24 23:00:00  98082.1  98429.7  97577.7  97960.4  11637.611\n",
      "2024-11-25 00:00:00  97960.5  98106.9  97574.4  97763.2   5664.024\n",
      "2024-11-25 01:00:00  97763.2  97900.3  96929.9  97107.1   7511.396\n",
      "\n",
      "[500 rows x 5 columns]\n"
     ]
    }
   ],
   "source": [
    "data = klines('BTCUSDT')\n",
    "print(data)"
   ]
  },
  {
   "cell_type": "code",
   "execution_count": 8,
   "metadata": {},
   "outputs": [],
   "source": [
    "# Your current positions (returns the symbols list):\n",
    "def get_pos():\n",
    "    try:\n",
    "        resp = client.get_position_risk()\n",
    "        pos = []\n",
    "        for elem in resp:\n",
    "            if float(elem['positionAmt']) != 0:\n",
    "                pos.append(elem['symbol'])\n",
    "        return pos\n",
    "    except ClientError as error:\n",
    "        print(\n",
    "            \"Found error. status: {}, error code: {}, error message: {}\".format(\n",
    "                error.status_code, error.error_code, error.error_message\n",
    "            )\n",
    "        )\n",
    "\n",
    "def check_orders():\n",
    "    try:\n",
    "        response = client.get_orders(recvWindow=6000)\n",
    "        sym = []\n",
    "        for elem in response:\n",
    "            sym.append(elem['symbol'])\n",
    "        return sym\n",
    "    except ClientError as error:\n",
    "        print(\n",
    "            \"Found error. status: {}, error code: {}, error message: {}\".format(\n",
    "                error.status_code, error.error_code, error.error_message\n",
    "            )\n",
    "        )\n",
    "\n",
    "# Close open orders for the needed symbol. If one stop order is executed and another one is still there\n",
    "def close_open_orders(symbol):\n",
    "    try:\n",
    "        response = client.cancel_open_orders(symbol=symbol, recvWindow=6000)\n",
    "        print(response)\n",
    "    except ClientError as error:\n",
    "        print(\n",
    "            \"Found error. status: {}, error code: {}, error message: {}\".format(\n",
    "                error.status_code, error.error_code, error.error_message\n",
    "            )\n",
    "        )"
   ]
  },
  {
   "cell_type": "code",
   "execution_count": 9,
   "metadata": {},
   "outputs": [],
   "source": [
    "orders = 0\n",
    "symbol = ''\n",
    "# getting all symbols from Binace Futures list:\n",
    "symbols = get_tickers_usdt()"
   ]
  },
  {
   "cell_type": "code",
   "execution_count": 11,
   "metadata": {},
   "outputs": [
    {
     "name": "stdout",
     "output_type": "stream",
     "text": [
      "USDT : 753.42635584\n",
      "None\n"
     ]
    }
   ],
   "source": [
    "print(get_balance_usdt())"
   ]
  },
  {
   "cell_type": "code",
   "execution_count": 12,
   "metadata": {},
   "outputs": [
    {
     "data": {
      "text/plain": [
       "57"
      ]
     },
     "execution_count": 12,
     "metadata": {},
     "output_type": "execute_result"
    }
   ],
   "source": [
    "pos = get_pos()\n",
    "len(pos)"
   ]
  },
  {
   "cell_type": "code",
   "execution_count": 13,
   "metadata": {},
   "outputs": [
    {
     "data": {
      "text/plain": [
       "208"
      ]
     },
     "execution_count": 13,
     "metadata": {},
     "output_type": "execute_result"
    }
   ],
   "source": [
    "ord = check_orders()\n",
    "len(ord)"
   ]
  },
  {
   "cell_type": "code",
   "execution_count": 14,
   "metadata": {},
   "outputs": [],
   "source": [
    "def get_pnl():\n",
    "    try:\n",
    "        response = client.get_income_history(incomeType=\"REALIZED_PNL\", recvWindow=6000)\n",
    "        if response:\n",
    "            # En son gerçekleşen işlemin kar/zarar bilgisi\n",
    "            latest_pnl = float(response[0]['income'])\n",
    "            symbol = response[0]['symbol']\n",
    "            return symbol, latest_pnl\n",
    "        return None, None\n",
    "    except ClientError as error:\n",
    "        print(\n",
    "            \"Found error. status: {}, error code: {}, error message: {}\".format(\n",
    "                error.status_code, error.error_code, error.error_message\n",
    "            )\n",
    "        )\n",
    "        return None, None"
   ]
  },
  {
   "cell_type": "code",
   "execution_count": 23,
   "metadata": {},
   "outputs": [
    {
     "name": "stdout",
     "output_type": "stream",
     "text": [
      "🔔 PHBUSDT için gerçekleşen kar/zarar: 0.0795 USDT\n",
      "🔔 PHBUSDT için gerçekleşen kar/zarar: 0.0795 USDT\n",
      "🔔 PHBUSDT için gerçekleşen kar/zarar: 0.0795 USDT\n"
     ]
    },
    {
     "ename": "KeyboardInterrupt",
     "evalue": "",
     "output_type": "error",
     "traceback": [
      "\u001b[0;31m---------------------------------------------------------------------------\u001b[0m",
      "\u001b[0;31mKeyboardInterrupt\u001b[0m                         Traceback (most recent call last)",
      "Cell \u001b[0;32mIn[23], line 5\u001b[0m\n\u001b[1;32m      3\u001b[0m \u001b[38;5;28;01mif\u001b[39;00m symbol \u001b[38;5;129;01mand\u001b[39;00m pnl:\n\u001b[1;32m      4\u001b[0m     \u001b[38;5;28mprint\u001b[39m(\u001b[38;5;124mf\u001b[39m\u001b[38;5;124m\"\u001b[39m\u001b[38;5;124m🔔 \u001b[39m\u001b[38;5;132;01m{\u001b[39;00msymbol\u001b[38;5;132;01m}\u001b[39;00m\u001b[38;5;124m için gerçekleşen kar/zarar: \u001b[39m\u001b[38;5;132;01m{\u001b[39;00mpnl\u001b[38;5;132;01m}\u001b[39;00m\u001b[38;5;124m USDT\u001b[39m\u001b[38;5;124m\"\u001b[39m)\n\u001b[0;32m----> 5\u001b[0m \u001b[43msleep\u001b[49m\u001b[43m(\u001b[49m\u001b[38;5;241;43m3\u001b[39;49m\u001b[43m)\u001b[49m\n",
      "\u001b[0;31mKeyboardInterrupt\u001b[0m: "
     ]
    }
   ],
   "source": [
    "while True:\n",
    "    symbol, pnl = get_pnl()\n",
    "    if symbol and pnl:\n",
    "        print(f\"🔔 {symbol} için gerçekleşen kar/zarar: {pnl} USDT\")\n",
    "    sleep(3)"
   ]
  }
 ],
 "metadata": {
  "kernelspec": {
   "display_name": "myenv",
   "language": "python",
   "name": "python3"
  },
  "language_info": {
   "codemirror_mode": {
    "name": "ipython",
    "version": 3
   },
   "file_extension": ".py",
   "mimetype": "text/x-python",
   "name": "python",
   "nbconvert_exporter": "python",
   "pygments_lexer": "ipython3",
   "version": "3.11.10"
  }
 },
 "nbformat": 4,
 "nbformat_minor": 2
}
